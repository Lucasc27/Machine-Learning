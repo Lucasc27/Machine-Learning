{
 "cells": [
  {
   "cell_type": "markdown",
   "metadata": {},
   "source": [
    "## Machine Learning\n",
    "\n",
    "### Resampling - Cross Validation"
   ]
  },
  {
   "cell_type": "code",
   "execution_count": 1,
   "metadata": {},
   "outputs": [],
   "source": [
    "import pandas as pd\n",
    "import numpy as np\n",
    "import matplotlib.pyplot as plt\n",
    "\n",
    "from sklearn.model_selection import train_test_split, LeaveOneOut, KFold\n",
    "from sklearn.metrics import mean_squared_error, roc_auc_score\n",
    "\n",
    "from sklearn.linear_model import LinearRegression, LogisticRegression\n",
    "from sklearn.preprocessing import PolynomialFeatures"
   ]
  },
  {
   "cell_type": "code",
   "execution_count": 2,
   "metadata": {},
   "outputs": [
    {
     "data": {
      "text/html": [
       "<div>\n",
       "<style scoped>\n",
       "    .dataframe tbody tr th:only-of-type {\n",
       "        vertical-align: middle;\n",
       "    }\n",
       "\n",
       "    .dataframe tbody tr th {\n",
       "        vertical-align: top;\n",
       "    }\n",
       "\n",
       "    .dataframe thead th {\n",
       "        text-align: right;\n",
       "    }\n",
       "</style>\n",
       "<table border=\"1\" class=\"dataframe\">\n",
       "  <thead>\n",
       "    <tr style=\"text-align: right;\">\n",
       "      <th></th>\n",
       "      <th>mpg</th>\n",
       "      <th>cylinders</th>\n",
       "      <th>displacement</th>\n",
       "      <th>horsepower</th>\n",
       "      <th>weight</th>\n",
       "      <th>acceleration</th>\n",
       "      <th>year</th>\n",
       "      <th>origin</th>\n",
       "      <th>name</th>\n",
       "    </tr>\n",
       "  </thead>\n",
       "  <tbody>\n",
       "    <tr>\n",
       "      <th>0</th>\n",
       "      <td>18.0</td>\n",
       "      <td>8</td>\n",
       "      <td>307.0</td>\n",
       "      <td>130</td>\n",
       "      <td>3504</td>\n",
       "      <td>12.0</td>\n",
       "      <td>70</td>\n",
       "      <td>1</td>\n",
       "      <td>chevrolet chevelle malibu</td>\n",
       "    </tr>\n",
       "    <tr>\n",
       "      <th>1</th>\n",
       "      <td>15.0</td>\n",
       "      <td>8</td>\n",
       "      <td>350.0</td>\n",
       "      <td>165</td>\n",
       "      <td>3693</td>\n",
       "      <td>11.5</td>\n",
       "      <td>70</td>\n",
       "      <td>1</td>\n",
       "      <td>buick skylark 320</td>\n",
       "    </tr>\n",
       "    <tr>\n",
       "      <th>2</th>\n",
       "      <td>18.0</td>\n",
       "      <td>8</td>\n",
       "      <td>318.0</td>\n",
       "      <td>150</td>\n",
       "      <td>3436</td>\n",
       "      <td>11.0</td>\n",
       "      <td>70</td>\n",
       "      <td>1</td>\n",
       "      <td>plymouth satellite</td>\n",
       "    </tr>\n",
       "    <tr>\n",
       "      <th>3</th>\n",
       "      <td>16.0</td>\n",
       "      <td>8</td>\n",
       "      <td>304.0</td>\n",
       "      <td>150</td>\n",
       "      <td>3433</td>\n",
       "      <td>12.0</td>\n",
       "      <td>70</td>\n",
       "      <td>1</td>\n",
       "      <td>amc rebel sst</td>\n",
       "    </tr>\n",
       "    <tr>\n",
       "      <th>4</th>\n",
       "      <td>17.0</td>\n",
       "      <td>8</td>\n",
       "      <td>302.0</td>\n",
       "      <td>140</td>\n",
       "      <td>3449</td>\n",
       "      <td>10.5</td>\n",
       "      <td>70</td>\n",
       "      <td>1</td>\n",
       "      <td>ford torino</td>\n",
       "    </tr>\n",
       "  </tbody>\n",
       "</table>\n",
       "</div>"
      ],
      "text/plain": [
       "    mpg  cylinders  displacement horsepower  weight  acceleration  year  \\\n",
       "0  18.0          8         307.0        130    3504          12.0    70   \n",
       "1  15.0          8         350.0        165    3693          11.5    70   \n",
       "2  18.0          8         318.0        150    3436          11.0    70   \n",
       "3  16.0          8         304.0        150    3433          12.0    70   \n",
       "4  17.0          8         302.0        140    3449          10.5    70   \n",
       "\n",
       "   origin                       name  \n",
       "0       1  chevrolet chevelle malibu  \n",
       "1       1          buick skylark 320  \n",
       "2       1         plymouth satellite  \n",
       "3       1              amc rebel sst  \n",
       "4       1                ford torino  "
      ]
     },
     "execution_count": 2,
     "metadata": {},
     "output_type": "execute_result"
    }
   ],
   "source": [
    "bd = pd.read_csv(\"http://www-bcf.usc.edu/~gareth/ISL/Auto.csv\")\n",
    "bd.head()"
   ]
  },
  {
   "cell_type": "code",
   "execution_count": 3,
   "metadata": {},
   "outputs": [
    {
     "data": {
      "text/html": [
       "<div>\n",
       "<style scoped>\n",
       "    .dataframe tbody tr th:only-of-type {\n",
       "        vertical-align: middle;\n",
       "    }\n",
       "\n",
       "    .dataframe tbody tr th {\n",
       "        vertical-align: top;\n",
       "    }\n",
       "\n",
       "    .dataframe thead th {\n",
       "        text-align: right;\n",
       "    }\n",
       "</style>\n",
       "<table border=\"1\" class=\"dataframe\">\n",
       "  <thead>\n",
       "    <tr style=\"text-align: right;\">\n",
       "      <th></th>\n",
       "      <th>mpg</th>\n",
       "      <th>cylinders</th>\n",
       "      <th>displacement</th>\n",
       "      <th>weight</th>\n",
       "      <th>acceleration</th>\n",
       "      <th>year</th>\n",
       "      <th>origin</th>\n",
       "    </tr>\n",
       "  </thead>\n",
       "  <tbody>\n",
       "    <tr>\n",
       "      <th>count</th>\n",
       "      <td>397.000000</td>\n",
       "      <td>397.000000</td>\n",
       "      <td>397.000000</td>\n",
       "      <td>397.000000</td>\n",
       "      <td>397.000000</td>\n",
       "      <td>397.000000</td>\n",
       "      <td>397.000000</td>\n",
       "    </tr>\n",
       "    <tr>\n",
       "      <th>mean</th>\n",
       "      <td>23.515869</td>\n",
       "      <td>5.458438</td>\n",
       "      <td>193.532746</td>\n",
       "      <td>2970.261965</td>\n",
       "      <td>15.555668</td>\n",
       "      <td>75.994962</td>\n",
       "      <td>1.574307</td>\n",
       "    </tr>\n",
       "    <tr>\n",
       "      <th>std</th>\n",
       "      <td>7.825804</td>\n",
       "      <td>1.701577</td>\n",
       "      <td>104.379583</td>\n",
       "      <td>847.904119</td>\n",
       "      <td>2.749995</td>\n",
       "      <td>3.690005</td>\n",
       "      <td>0.802549</td>\n",
       "    </tr>\n",
       "    <tr>\n",
       "      <th>min</th>\n",
       "      <td>9.000000</td>\n",
       "      <td>3.000000</td>\n",
       "      <td>68.000000</td>\n",
       "      <td>1613.000000</td>\n",
       "      <td>8.000000</td>\n",
       "      <td>70.000000</td>\n",
       "      <td>1.000000</td>\n",
       "    </tr>\n",
       "    <tr>\n",
       "      <th>25%</th>\n",
       "      <td>17.500000</td>\n",
       "      <td>4.000000</td>\n",
       "      <td>104.000000</td>\n",
       "      <td>2223.000000</td>\n",
       "      <td>13.800000</td>\n",
       "      <td>73.000000</td>\n",
       "      <td>1.000000</td>\n",
       "    </tr>\n",
       "    <tr>\n",
       "      <th>50%</th>\n",
       "      <td>23.000000</td>\n",
       "      <td>4.000000</td>\n",
       "      <td>146.000000</td>\n",
       "      <td>2800.000000</td>\n",
       "      <td>15.500000</td>\n",
       "      <td>76.000000</td>\n",
       "      <td>1.000000</td>\n",
       "    </tr>\n",
       "    <tr>\n",
       "      <th>75%</th>\n",
       "      <td>29.000000</td>\n",
       "      <td>8.000000</td>\n",
       "      <td>262.000000</td>\n",
       "      <td>3609.000000</td>\n",
       "      <td>17.100000</td>\n",
       "      <td>79.000000</td>\n",
       "      <td>2.000000</td>\n",
       "    </tr>\n",
       "    <tr>\n",
       "      <th>max</th>\n",
       "      <td>46.600000</td>\n",
       "      <td>8.000000</td>\n",
       "      <td>455.000000</td>\n",
       "      <td>5140.000000</td>\n",
       "      <td>24.800000</td>\n",
       "      <td>82.000000</td>\n",
       "      <td>3.000000</td>\n",
       "    </tr>\n",
       "  </tbody>\n",
       "</table>\n",
       "</div>"
      ],
      "text/plain": [
       "              mpg   cylinders  displacement       weight  acceleration  \\\n",
       "count  397.000000  397.000000    397.000000   397.000000    397.000000   \n",
       "mean    23.515869    5.458438    193.532746  2970.261965     15.555668   \n",
       "std      7.825804    1.701577    104.379583   847.904119      2.749995   \n",
       "min      9.000000    3.000000     68.000000  1613.000000      8.000000   \n",
       "25%     17.500000    4.000000    104.000000  2223.000000     13.800000   \n",
       "50%     23.000000    4.000000    146.000000  2800.000000     15.500000   \n",
       "75%     29.000000    8.000000    262.000000  3609.000000     17.100000   \n",
       "max     46.600000    8.000000    455.000000  5140.000000     24.800000   \n",
       "\n",
       "             year      origin  \n",
       "count  397.000000  397.000000  \n",
       "mean    75.994962    1.574307  \n",
       "std      3.690005    0.802549  \n",
       "min     70.000000    1.000000  \n",
       "25%     73.000000    1.000000  \n",
       "50%     76.000000    1.000000  \n",
       "75%     79.000000    2.000000  \n",
       "max     82.000000    3.000000  "
      ]
     },
     "execution_count": 3,
     "metadata": {},
     "output_type": "execute_result"
    }
   ],
   "source": [
    "bd.describe()"
   ]
  },
  {
   "cell_type": "code",
   "execution_count": 4,
   "metadata": {},
   "outputs": [
    {
     "data": {
      "text/plain": [
       "mpg             float64\n",
       "cylinders         int64\n",
       "displacement    float64\n",
       "horsepower       object\n",
       "weight            int64\n",
       "acceleration    float64\n",
       "year              int64\n",
       "origin            int64\n",
       "name             object\n",
       "dtype: object"
      ]
     },
     "execution_count": 4,
     "metadata": {},
     "output_type": "execute_result"
    }
   ],
   "source": [
    "bd.dtypes"
   ]
  },
  {
   "cell_type": "code",
   "execution_count": 5,
   "metadata": {},
   "outputs": [],
   "source": [
    "bd.horsepower = pd.to_numeric(bd.horsepower,errors='coerce')"
   ]
  },
  {
   "cell_type": "code",
   "execution_count": 6,
   "metadata": {},
   "outputs": [
    {
     "data": {
      "text/plain": [
       "mpg             0\n",
       "cylinders       0\n",
       "displacement    0\n",
       "horsepower      5\n",
       "weight          0\n",
       "acceleration    0\n",
       "year            0\n",
       "origin          0\n",
       "name            0\n",
       "dtype: int64"
      ]
     },
     "execution_count": 6,
     "metadata": {},
     "output_type": "execute_result"
    }
   ],
   "source": [
    "bd.isnull().sum()"
   ]
  },
  {
   "cell_type": "code",
   "execution_count": 7,
   "metadata": {},
   "outputs": [],
   "source": [
    "bd = bd.dropna()"
   ]
  },
  {
   "cell_type": "code",
   "execution_count": 8,
   "metadata": {},
   "outputs": [
    {
     "data": {
      "text/plain": [
       "mpg             0\n",
       "cylinders       0\n",
       "displacement    0\n",
       "horsepower      0\n",
       "weight          0\n",
       "acceleration    0\n",
       "year            0\n",
       "origin          0\n",
       "name            0\n",
       "dtype: int64"
      ]
     },
     "execution_count": 8,
     "metadata": {},
     "output_type": "execute_result"
    }
   ],
   "source": [
    "bd.isnull().sum()"
   ]
  },
  {
   "cell_type": "code",
   "execution_count": 9,
   "metadata": {},
   "outputs": [],
   "source": [
    "y = bd.mpg\n",
    "X = bd.horsepower\n",
    "y = np.array(y)\n",
    "X = np.array(X)\n",
    "X = X.reshape(-1,1)"
   ]
  },
  {
   "cell_type": "code",
   "execution_count": 10,
   "metadata": {},
   "outputs": [],
   "source": [
    "X_train, X_test, y_train, y_test = train_test_split(X, y, test_size =.3, random_state=5)"
   ]
  },
  {
   "cell_type": "code",
   "execution_count": 11,
   "metadata": {},
   "outputs": [
    {
     "name": "stdout",
     "output_type": "stream",
     "text": [
      "MSE for Simples Linear Regression:  34.61244348009657\n"
     ]
    }
   ],
   "source": [
    "reg = LinearRegression()\n",
    "reg.fit(X_train, y_train)\n",
    "yhat = reg.predict(X_test)\n",
    "medida = mean_squared_error(y_test, yhat)\n",
    "print('MSE for Simples Linear Regression: ', medida)"
   ]
  },
  {
   "cell_type": "markdown",
   "metadata": {},
   "source": [
    "## Estimando o MSE da Regressão com o LOOCV"
   ]
  },
  {
   "cell_type": "code",
   "execution_count": 17,
   "metadata": {},
   "outputs": [
    {
     "name": "stdout",
     "output_type": "stream",
     "text": [
      "[2.020010024321651, 1.2509241240422861, 3.0680516401639957, 0.06799019837204817, 0.7082556294244374, 41.35667450716614, 81.37553579730998, 67.14947672916045, 97.04988465707545, 26.34303682304336, 3.6742869739717334, 0.4707416905678176, 1.6050778867387934, 97.04988465707545, 0.889557151130716, 8.69418109789263, 44.12289653365883, 30.656222509959434, 0.9165497318131891, 45.31853784962301, 1.4570528075377136, 3.0098355440288405, 0.0035461760456729618, 15.29640877266284, 22.502220796825593, 16.79054457227355, 2.7673535145602672, 18.535464818187215, 0.22995747384892581, 0.9165497318131891, 5.183799994543558, 0.0035461760456729618, 26.674551027218364, 54.47911198315086, 51.40783236884584, 49.94052560583025, 38.03600056861017, 0.011988458474189093, 2.9103300297208614, 3.2310436344767135, 5.166911181280724, 0.23248733238398803, 0.010667890815345261, 0.48261526388763243, 21.021111412644863, 43.558519729146035, 26.674551027218364, 65.12311616023943, 11.369041835374313, 5.183799994543558, 1.2508572731443464, 4.278732106338397, 1.771618190537011, 35.80448755894805, 12.151985486180129, 8.410440413367837, 0.889557151130716, 5.366572585517539, 71.75958415442513, 33.02308418407844, 28.923965018023665, 0.8090346864255007, 2.9103300297208614, 1.6050778867388114, 3.2310436344767135, 0.5556481161804393, 15.837456249677734, 6.18633935964396, 7.300692933174863, 9.62066868485245, 31.80793552879091, 1.6050778867388114, 41.46998611428401, 23.625337553584004, 5.166911181280724, 18.220586850469868, 35.55995554549231, 27.242488857017417, 9.357612276920433, 19.14019398093359, 6.724508275237923, 2.6544067152096105, 0.48192211503588245, 0.9165497318131891, 0.48261526388763243, 5.166911181280724, 16.567345746244207, 18.749669073287233, 1.6050778867387934, 11.40418000725182, 10.753490081997807, 4.046029249635803, 5.166911181280724, 51.41270729757681, 60.75518841514566, 0.48261526388763243, 28.90009236509785, 66.79004642792562, 38.03600056861017, 65.12311616023943, 3.7864354584130346, 45.31853784962301, 28.000884701957457, 2.529958042237691, 0.010667890815345261, 0.23248733238398803, 38.03600056861017, 36.77006695590049, 57.82504351583274, 9.653261953013947, 60.09991341306478, 56.90043209972576, 4.209601090058051, 0.07341613296565833, 4.241410767208632, 162.50411782850256, 10.412495210045387, 16.926387239773643, 31.225692999805236, 10.666115773090793, 1.6050778867387934, 2.047146167539338, 0.46362722457281796, 0.28130853018812635, 24.542274373443504, 26.674551027218364, 84.18264274584925, 2.7156861364894316, 1.7239398618174464, 5.458247703111549, 9.672737231941262, 66.79004642792562, 43.429415369092965, 28.90009236509785, 3.408941844288855, 10.753490081997807, 5.166911181280724, 14.867482806368631, 5.166911181280724, 4.719854612759141, 11.404557020217805, 2.657231794074396, 0.5377148356518874, 2.8987260659573546, 0.009584907548846295, 16.926387239773703, 4.435386840626337, 0.39260331328686454, 0.5561743972181197, 2.7156861364894316, 35.48262200951494, 28.90009236509785, 185.79376556396008, 185.79376556396008, 8.566785739672033, 4.241410767208618, 0.06799019837204817, 6.707681708696559, 31.22003533619729, 54.47911198315081, 57.64925151133202, 48.433836977783514, 2.4870762980473216, 6.6546318935698725, 43.5279867200212, 0.821133365786311, 14.804218263692206, 17.32348374467055, 21.542833255760787, 0.6160146596000354, 14.030144313621475, 0.39260331328686454, 44.12289653365883, 0.012949073832248439, 45.55564838949143, 3.7864354584130484, 9.331482432986997, 6.1185286610629115, 10.401451042958207, 2.0740885191041953, 2.7025644805388542, 4.656940705428016, 0.17248780080220805, 2.1653969968420124, 0.02749187945871003, 0.1150585885361125, 0.06799019837204447, 30.369421920513, 2.1107254539865883, 4.652495956106781, 1.8649957706926714, 9.995137660794734, 10.492864749996944, 7.551529985900198, 36.01165353355619, 0.012949073832248439, 2.074088519104185, 17.32348374467055, 93.32137906160845, 16.675570491872442, 55.66351971149182, 0.599987945465561, 9.782281640504454, 0.009584907548846295, 4.326950507345774, 14.788245359961241, 10.753490081997807, 49.94052560583025, 15.199544100196139, 20.3208885411554, 25.38814909428627, 16.56734574624418, 41.46998611428401, 10.753490081997807, 5.330425107549754, 7.297567969079178, 27.584657145406304, 0.5171868107707721, 21.47950688866844, 0.20618073805314138, 31.220035336197334, 2.4235035440762993, 19.64563676199194, 25.869266360753205, 8.233947205828855, 26.674551027218364, 35.79355565804457, 20.542541653911538, 5.865478921478375, 31.812458991350006, 0.17598184663734673, 1.9077748487546653, 2.403135349148055, 4.435386840626337, 0.1511905540942639, 0.26130367289255946, 44.72444020588953, 0.41336470056217, 8.33410056973227, 6.9268416377214015, 1.1572195412897779, 1.1572195412897779, 117.24367726285101, 43.7670739321905, 1.1662973224371005, 111.553233517282, 32.1334195973435, 7.181962539136067, 2.464357917747243, 4.905186178381668, 17.412351416938236, 19.82617580498182, 40.187722329918365, 0.899439615434454, 13.401843450463113, 40.301218609147014, 7.668633278076568, 32.918324462955724, 15.866775990998214, 8.428034141945322, 4.679773409758227, 14.76577997920551, 0.011033629235304352, 0.1150585885361125, 0.6423469613681273, 6.586063316696055, 6.666276245492278, 7.917980879943096, 14.830443742452912, 0.026431879213293742, 7.440905307553299, 0.5283052350526333, 11.468417140657023, 10.341452274439503, 0.0339377102139054, 7.581235948815298, 7.748422304638923, 0.08941907896917378, 0.08093848836350925, 45.43656424787162, 14.114052638560917, 30.75797544117502, 3.9128438031351687, 5.880432631442689, 3.9243681048780212, 2.758082670223275, 0.18370228884372372, 2.0738702527796318, 4.1291602008692445, 1.0172257718076605, 5.08353300447142, 10.146778179182755, 19.778937324726012, 70.92851558312755, 0.00847276098375058, 5.71702729239259, 7.86198815787981, 2.358597220743292, 3.3678851004888672, 28.49248471645386, 31.800827041084464, 4.559231658778921, 68.80037285619838, 7.17149315957607, 49.49935826777028, 25.301685196664398, 60.72868498843832, 185.34416798315453, 58.99216499540331, 10.420799137778198, 57.2092847447673, 5.183799994543558, 0.12641509442032267, 2.0563889237384734, 44.21186543213292, 44.906456316187914, 16.663162268071716, 10.339551864416206, 134.99215095233248, 16.96762185514358, 289.4489554642079, 20.69743994818416, 125.05157385351231, 144.9051915115559, 123.88465264486352, 50.05464798399077, 0.41336470056217, 234.57760387818473, 19.908840486795775, 0.12353715109493785, 186.38621178959406, 0.20480853989180225, 80.66901574447402, 14.789941993521209, 0.2754307699387099, 0.005953056380924366, 0.14972675133074598, 0.8639327876177748, 11.115643792160245, 70.08530460828125, 84.93034691630294, 21.740157900689894, 8.728675473667884, 54.208296856804424, 57.6616427324847, 24.220520347323742, 22.415394830473893, 22.55235576599342, 0.0507271491982282, 22.699878799946667, 31.643744482753778, 18.662319255344244, 76.93553721645836, 11.280191536103763, 0.6313348972184557, 7.680024453115678, 14.323586180742478, 10.33652900326858, 0.030064728012451466, 10.537285141530061, 34.37743105445199, 80.0620412249694, 3.843146317718076, 0.9165497318131822, 63.657495827213644, 20.208176554581, 5.43229348526248, 1.6227576546744715, 2.0111321335379775, 60.48098015751326, 61.3959910471868, 3.26284997565841, 64.84768248435495, 51.067562250168436, 99.69266756621361, 62.95836183593759, 26.387849966179154, 75.3932747654013, 7.038055378753173, 75.3932747654013, 5.921415009389935, 132.6611046959906, 0.3451690468402742, 0.06653001610599345, 52.36823677274502, 87.4921442759813, 1.6227576546744715, 0.4106221684444854, 152.82776194261953, 28.52182992630348, 0.28712437988678263, 16.169806409688476]\n"
     ]
    }
   ],
   "source": [
    "loo = LeaveOneOut()\n",
    "\n",
    "mse_list = []\n",
    "\n",
    "for train, test in loo.split(X):\n",
    "    X_train, X_test = X[train], X[test]\n",
    "    y_train, y_test = y[train], y[test]\n",
    "    \n",
    "    reg.fit(X_train, y_train)\n",
    "    yhat = reg.predict(X_test)\n",
    "    medida = mean_squared_error(y_test, yhat)\n",
    "    mse_list.append(medida)\n",
    "\n",
    "print(mse_list)\n",
    "mse_array = np.array(mse_list)"
   ]
  },
  {
   "cell_type": "code",
   "execution_count": 18,
   "metadata": {},
   "outputs": [
    {
     "name": "stdout",
     "output_type": "stream",
     "text": [
      "MSE with LOOCV: 24.231513517929226\n"
     ]
    }
   ],
   "source": [
    "print('MSE with LOOCV:', mse_array.mean())"
   ]
  },
  {
   "cell_type": "markdown",
   "metadata": {},
   "source": [
    "## Fazendo com o K-Fold"
   ]
  },
  {
   "cell_type": "code",
   "execution_count": 19,
   "metadata": {},
   "outputs": [
    {
     "name": "stdout",
     "output_type": "stream",
     "text": [
      "[28.34783584097226, 17.226408542020682, 26.92535793423824, 23.36016121696417, 15.5576330367143, 17.893834560501954, 17.044768671534392, 22.836578723524884, 65.93489566837351, 39.27186232855442]\n"
     ]
    }
   ],
   "source": [
    "kf = KFold(10)\n",
    "\n",
    "mse_list = []\n",
    "\n",
    "for train, test in kf.split(X):\n",
    "    X_train, X_test = X[train], X[test]\n",
    "    y_train, y_test = y[train], y[test]\n",
    "    \n",
    "    reg.fit(X_train, y_train)\n",
    "    yhat = reg.predict(X_test)\n",
    "    medida = mean_squared_error(y_test, yhat)\n",
    "    mse_list.append(medida)\n",
    "\n",
    "print(mse_list)\n",
    "mse_array = np.array(mse_list)"
   ]
  },
  {
   "cell_type": "code",
   "execution_count": 20,
   "metadata": {},
   "outputs": [
    {
     "name": "stdout",
     "output_type": "stream",
     "text": [
      "MSE with KFold: 27.43993365233988\n"
     ]
    }
   ],
   "source": [
    "print('MSE with KFold:', mse_array.mean())"
   ]
  },
  {
   "cell_type": "markdown",
   "metadata": {},
   "source": [
    "## Estimando o polinômio ideal"
   ]
  },
  {
   "cell_type": "code",
   "execution_count": 22,
   "metadata": {},
   "outputs": [
    {
     "data": {
      "image/png": "[encoded data removed]",
      "text/plain": [
       "<Figure size 432x288 with 1 Axes>"
      ]
     },
     "metadata": {
      "needs_background": "light"
     },
     "output_type": "display_data"
    }
   ],
   "source": [
    "plt.scatter(x=bd.horsepower,y=bd.mpg, color='red', alpha=.6)\n",
    "plt.show()"
   ]
  },
  {
   "cell_type": "code",
   "execution_count": 23,
   "metadata": {},
   "outputs": [
    {
     "data": {
      "text/plain": [
       "10"
      ]
     },
     "execution_count": 23,
     "metadata": {},
     "output_type": "execute_result"
    }
   ],
   "source": [
    "X_list = [X]\n",
    "\n",
    "for i in range(2,11):\n",
    "    poly = PolynomialFeatures(i)\n",
    "    new = poly.fit_transform(X)\n",
    "    X_list.append(new)\n",
    "    \n",
    "len(X_list)"
   ]
  },
  {
   "cell_type": "code",
   "execution_count": 37,
   "metadata": {},
   "outputs": [
    {
     "name": "stdout",
     "output_type": "stream",
     "text": [
      "[23.922424813625344, 19.345574290461606, 18.96588253038843, 18.651813996726116, 19.09878232471815, 19.11964169851455, 19.168803979483055, 18.430868484359788, 15.70185547614465, 16.85657931717671]\n",
      "----\n",
      "[28.34783584097226, 16.55513797223936, 19.9765955720787, 21.77511368859353, 13.004039873836788, 11.01891958419909, 11.879650992429173, 20.408022406430433, 49.811232470875275, 35.8363300394705]\n"
     ]
    }
   ],
   "source": [
    "kf_10 = KFold(10)\n",
    "\n",
    "mse_train = []\n",
    "mse_test = []\n",
    "\n",
    "for i, (train, test) in enumerate(kf_10.split(bd)):\n",
    "    X_train, X_test = X_list[i][train], X_list[i][test]\n",
    "    y_train, y_test = y[train], y[test]\n",
    "    reg.fit(X_train, y_train)\n",
    "    yhat_poly_train = reg.predict(X_train)\n",
    "    yhat_poly_test = reg.predict(X_test)\n",
    "    medida_poly_train = mean_squared_error(y_train, yhat_poly_train)\n",
    "    medida_poly_test = mean_squared_error(y_test, yhat_poly_test)\n",
    "    mse_train.append(medida_poly_train)\n",
    "    mse_test.append(medida_poly_test)\n",
    "    \n",
    "print(mse_train)\n",
    "print('----')\n",
    "print(mse_test)"
   ]
  },
  {
   "cell_type": "code",
   "execution_count": 42,
   "metadata": {},
   "outputs": [
    {
     "data": {
      "image/png": "[encoded data removed]",
      "text/plain": [
       "<Figure size 432x288 with 1 Axes>"
      ]
     },
     "metadata": {
      "needs_background": "light"
     },
     "output_type": "display_data"
    }
   ],
   "source": [
    "fig, ax = plt.subplots()\n",
    "ax.plot(mse_train, color='blue', label='Train MSE')\n",
    "ax.plot(mse_test, color='red', label='Test MSE')\n",
    "ax.legend()\n",
    "plt.xticks(range(10), range(1,11))\n",
    "plt.show()"
   ]
  },
  {
   "cell_type": "markdown",
   "metadata": {},
   "source": [
    "## Bootstrap"
   ]
  },
  {
   "cell_type": "code",
   "execution_count": 43,
   "metadata": {},
   "outputs": [],
   "source": [
    "from sklearn.utils import resample"
   ]
  },
  {
   "cell_type": "code",
   "execution_count": 48,
   "metadata": {},
   "outputs": [
    {
     "name": "stdout",
     "output_type": "stream",
     "text": [
      "1000\n"
     ]
    }
   ],
   "source": [
    "# Configurando o bootstrap\n",
    "n_iterations = 1000\n",
    "n_size = bd.shape[0]\n",
    "\n",
    "# Executar o bootstrap\n",
    "mse_list_bootstrap = []\n",
    "\n",
    "for i in range(n_iterations):\n",
    "    X_re, y_re = resample(X, y, replace=True, n_samples=n_size)\n",
    "    X_train, X_test, y_train, y_test = train_test_split(X_re, y_re, test_size=.3)\n",
    "    reg.fit(X_train, y_train)\n",
    "    yhat_bootstrap = reg.predict(X_test)\n",
    "    medida_bootstrap = mean_squared_error(y_test, yhat_bootstrap)\n",
    "    mse_list_bootstrap.append(medida_bootstrap)\n",
    "    \n",
    "print(len(mse_list_bootstrap))"
   ]
  },
  {
   "cell_type": "code",
   "execution_count": 50,
   "metadata": {},
   "outputs": [
    {
     "data": {
      "text/plain": [
       "24.15022151927712"
      ]
     },
     "execution_count": 50,
     "metadata": {},
     "output_type": "execute_result"
    }
   ],
   "source": [
    "np.mean(mse_list_bootstrap)"
   ]
  },
  {
   "cell_type": "code",
   "execution_count": 51,
   "metadata": {},
   "outputs": [
    {
     "data": {
      "image/png": "[encoded data removed]",
      "text/plain": [
       "<Figure size 432x288 with 1 Axes>"
      ]
     },
     "metadata": {
      "needs_background": "light"
     },
     "output_type": "display_data"
    }
   ],
   "source": [
    "plt.hist(mse_list_bootstrap)\n",
    "plt.show()"
   ]
  },
  {
   "cell_type": "code",
   "execution_count": 53,
   "metadata": {},
   "outputs": [
    {
     "name": "stdout",
     "output_type": "stream",
     "text": [
      "Erro padrão da média de MSE:  0.10701857793848023\n",
      "Intervalo de confiança do MSE:  [23.94046511 24.35997793]\n"
     ]
    }
   ],
   "source": [
    "# Função para calcular o erro padrão\n",
    "def stderr(x):\n",
    "    n = len(x)\n",
    "    return np.std(x) / np.sqrt(n)\n",
    "\n",
    "# Função para calcular o intervalo de confiança\n",
    "def confint95(x):\n",
    "    err = stderr(x)\n",
    "    up = np.mean(x) + 1.96*err\n",
    "    low = np.mean(x) - 1.96*err\n",
    "    return np.array([low, up])\n",
    "\n",
    "print(\"Erro padrão da média de MSE: \", stderr(mse_list_bootstrap))\n",
    "print(\"Intervalo de confiança do MSE: \", confint95(mse_list_bootstrap))"
   ]
  },
  {
   "cell_type": "code",
   "execution_count": null,
   "metadata": {},
   "outputs": [],
   "source": []
  }
 ],
 "metadata": {
  "kernelspec": {
   "display_name": "Python 3",
   "language": "python",
   "name": "python3"
  },
  "language_info": {
   "codemirror_mode": {
    "name": "ipython",
    "version": 3
   },
   "file_extension": ".py",
   "mimetype": "text/x-python",
   "name": "python",
   "nbconvert_exporter": "python",
   "pygments_lexer": "ipython3",
   "version": "3.7.1"
  }
 },
 "nbformat": 4,
 "nbformat_minor": 2
}
